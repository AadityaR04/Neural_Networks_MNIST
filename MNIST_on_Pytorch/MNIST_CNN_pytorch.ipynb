{
  "cells": [
    {
      "cell_type": "code",
      "execution_count": 43,
      "metadata": {
        "id": "JEbHBKETzRoe"
      },
      "outputs": [],
      "source": [
        "# Importing Libraries\n",
        "import torch\n",
        "import numpy as np\n",
        "from matplotlib import pyplot as plt\n",
        "import random\n",
        "import torchvision\n",
        "from torch.utils.data import DataLoader\n",
        "from torch import nn\n",
        "import torchvision.datasets as datasets\n",
        "import torchvision.transforms as transforms\n",
        "from torch import optim\n",
        "from torch.nn import functional as F"
      ]
    },
    {
      "cell_type": "code",
      "execution_count": 44,
      "metadata": {
        "id": "VzrZeA78E-Gv"
      },
      "outputs": [
        {
          "name": "stdout",
          "output_type": "stream",
          "text": [
            "cuda\n"
          ]
        }
      ],
      "source": [
        "device = torch.device(\"cuda\" if torch.cuda.is_available() else \"cpu\") # checking device type\n",
        "print(device)"
      ]
    },
    {
      "cell_type": "code",
      "execution_count": 45,
      "metadata": {
        "id": "1q3-UBEmCwan"
      },
      "outputs": [],
      "source": [
        "# Convolutional Neural Network\n",
        "class cnn(nn.Module):\n",
        "    def __init__(self, input_channels, num_classes):\n",
        "        super(cnn, self).__init__()\n",
        "        self.conv1 = nn.Conv2d(1, 8, kernel_size=5, padding= 2)\n",
        "        self.pool = nn.MaxPool2d(kernel_size=2, stride=2)\n",
        "        self.conv2 = nn.Conv2d(8, 16, kernel_size=5, padding=2)\n",
        "        self.FC1 = nn.Linear(16 * 7 * 7, 300) # image of size 28 * 28 are reduced to 7 * 7 by two pool operations of size (2,2)\n",
        "        self.FC2 = nn.Linear(300, 112)\n",
        "        self.FC3 = nn.Linear(112, 120)\n",
        "        self.FC4 = nn.Linear(120, 10) # Final Layer\n",
        "\n",
        "    def forward(self, x):\n",
        "        x = self.pool(F.relu(self.conv1(x)))\n",
        "        x = self.pool(F.relu(self.conv2(x)))\n",
        "        x = torch.flatten(x, 1)\n",
        "        x = F.relu(self.FC1(x))\n",
        "        x = F.relu(self.FC2(x))\n",
        "        x = F.relu(self.FC3(x))\n",
        "        x = self.FC4(x)\n",
        "        return x"
      ]
    },
    {
      "cell_type": "code",
      "execution_count": 46,
      "metadata": {
        "id": "-dHoNtFpCyoS"
      },
      "outputs": [],
      "source": [
        "input_channel = 1\n",
        "num_classes = 10\n",
        "learning_rate = 0.001\n",
        "batch_size = 64\n",
        "num_epochs = 10"
      ]
    },
    {
      "cell_type": "code",
      "execution_count": 47,
      "metadata": {
        "id": "YvwYrOVaC0T9"
      },
      "outputs": [],
      "source": [
        "train_dataset = datasets.MNIST(root = '.', train= True, transform = transforms.ToTensor(), download = True)\n",
        "train_loader = DataLoader(dataset = train_dataset, batch_size = batch_size, shuffle = True)\n",
        "test_dataset = datasets.MNIST(root = '.', train= False, transform = transforms.ToTensor(), download = True)\n",
        "test_loader = DataLoader(dataset = test_dataset, batch_size = batch_size, shuffle = True)"
      ]
    },
    {
      "cell_type": "code",
      "execution_count": 48,
      "metadata": {
        "id": "TQ7vkIJpC2bd"
      },
      "outputs": [],
      "source": [
        "model = cnn(input_channel, num_classes).to(device)\n",
        "criterion = nn.CrossEntropyLoss()\n",
        "optimizer = optim.Adam(model.parameters(), lr=learning_rate)"
      ]
    },
    {
      "cell_type": "code",
      "execution_count": 49,
      "metadata": {},
      "outputs": [],
      "source": [
        "costs=[]\n",
        "accuracy=[]"
      ]
    },
    {
      "cell_type": "code",
      "execution_count": 50,
      "metadata": {
        "id": "iMV9jDJRC4qr"
      },
      "outputs": [
        {
          "name": "stdout",
          "output_type": "stream",
          "text": [
            "Epoch: 1/10, Loss: 0.1589\n",
            "Epoch: 2/10, Loss: 0.0644\n",
            "Epoch: 3/10, Loss: 0.0591\n",
            "Epoch: 4/10, Loss: 0.0005\n",
            "Epoch: 5/10, Loss: 0.0011\n",
            "Epoch: 6/10, Loss: 0.0005\n",
            "Epoch: 7/10, Loss: 0.0021\n",
            "Epoch: 8/10, Loss: 0.0003\n",
            "Epoch: 9/10, Loss: 0.0726\n",
            "Epoch: 10/10, Loss: 0.0012\n"
          ]
        }
      ],
      "source": [
        "for epoch in range(num_epochs): # number of iterations\n",
        "    for _, (data, targets) in enumerate(train_loader , 0): # one min-batch goes through each iteration of size batch_size\n",
        "        # Converting to acceptable format\n",
        "        data, targets = data.to(device), targets.to(device)\n",
        "\n",
        "        # Forward pass\n",
        "        output = model(data)\n",
        "        loss = criterion(output, targets)\n",
        "        costs.append(loss.item())\n",
        "\n",
        "        # Backward pass\n",
        "        optimizer.zero_grad()\n",
        "        loss.backward()\n",
        "        optimizer.step()\n",
        "\n",
        "        # Calculating accuracy\n",
        "        _,predicted=torch.max(output.data,1)\n",
        "        true=(predicted==targets).sum().item()\n",
        "        accuracy.append(true/targets.size(0))\n",
        "    \n",
        "    print('Epoch: {}/{}, Loss: {:.4f}'\n",
        "    .format(epoch+1,num_epochs,loss.item()))"
      ]
    },
    {
      "cell_type": "code",
      "execution_count": 51,
      "metadata": {},
      "outputs": [
        {
          "data": {
            "image/png": "[encoded data removed]",
            "text/plain": [
              "<Figure size 432x288 with 1 Axes>"
            ]
          },
          "metadata": {
            "needs_background": "light"
          },
          "output_type": "display_data"
        }
      ],
      "source": [
        "fig = plt.figure()\n",
        "fig.suptitle('Learning Curves', fontsize=20)\n",
        "plt.xlabel('Number of Iterations', fontsize=14)\n",
        "plt.plot(costs, label = 'Training Cost')\n",
        "plt.plot(accuracy, label = 'Training Accuracy')\n",
        "plt.legend()\n",
        "plt.show()"
      ]
    },
    {
      "cell_type": "code",
      "execution_count": 52,
      "metadata": {
        "id": "P-_BFpB-7B4H"
      },
      "outputs": [],
      "source": [
        "def check_accuracy(loader, model):\n",
        "    num_correct = 0\n",
        "    num_samples = 0\n",
        "    model.eval()\n",
        "    with torch.no_grad():\n",
        "        for x, y in loader:\n",
        "            x = x.to(device = device)\n",
        "            y = y.to(device = device)\n",
        "            scores = model(x)\n",
        "            _, predictions = scores.max(1)\n",
        "            num_correct += (predictions == y).sum()\n",
        "            num_samples += predictions.size(0)\n",
        "        \n",
        "    model.train()\n",
        "    return num_correct/num_samples * 100\n"
      ]
    },
    {
      "cell_type": "code",
      "execution_count": 53,
      "metadata": {
        "colab": {
          "base_uri": "https://localhost:8080/"
        },
        "id": "gqmZ41UhC8Em",
        "outputId": "6c54fdde-3e16-450f-f60c-5011de8bd2cc"
      },
      "outputs": [
        {
          "name": "stdout",
          "output_type": "stream",
          "text": [
            "Training Accuracy: 99.71334075927734\n",
            "Testing Accuracy: 98.99999237060547\n"
          ]
        }
      ],
      "source": [
        "training_accuracy = check_accuracy(train_loader, model)\n",
        "testing_accuracy = check_accuracy(test_loader, model)\n",
        "print(f\"Training Accuracy: {training_accuracy}\")\n",
        "print(f\"Testing Accuracy: {testing_accuracy}\")"
      ]
    },
    {
      "cell_type": "code",
      "execution_count": 66,
      "metadata": {},
      "outputs": [
        {
          "data": {
            "image/png": "[encoded data removed]",
            "text/plain": [
              "<Figure size 432x288 with 1 Axes>"
            ]
          },
          "metadata": {
            "needs_background": "light"
          },
          "output_type": "display_data"
        }
      ],
      "source": [
        "index=random.randint(0,len(test_dataset))\n",
        "\n",
        "with torch.no_grad():\n",
        "    data=test_dataset[index][0].view(1,1,28,28)\n",
        "    data=data.to(device)\n",
        "    output=model(data)\n",
        "    _,predicted=torch.max(output.data,1)\n",
        "\n",
        "    plt.imshow(test_dataset[index][0].view(28,28))\n",
        "    plt.title('The number is: {}'.format(predicted.item()))\n",
        "    plt.axis('off')\n",
        "    plt.show()"
      ]
    }
  ],
  "metadata": {
    "accelerator": "GPU",
    "colab": {
      "authorship_tag": "ABX9TyMNSqpjm0Tc8oz838rLqrZ7",
      "include_colab_link": true,
      "name": "mnist_cnn.ipynb",
      "provenance": []
    },
    "kernelspec": {
      "display_name": "Python 3",
      "name": "python3"
    },
    "language_info": {
      "codemirror_mode": {
        "name": "ipython",
        "version": 3
      },
      "file_extension": ".py",
      "mimetype": "text/x-python",
      "name": "python",
      "nbconvert_exporter": "python",
      "pygments_lexer": "ipython3",
      "version": "3.9.7"
    }
  },
  "nbformat": 4,
  "nbformat_minor": 0
}
