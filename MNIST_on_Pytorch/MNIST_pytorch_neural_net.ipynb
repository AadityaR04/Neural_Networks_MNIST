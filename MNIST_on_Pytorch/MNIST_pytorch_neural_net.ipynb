{
 "cells": [
  {
   "cell_type": "code",
   "execution_count": 26,
   "metadata": {},
   "outputs": [],
   "source": [
    "import torch\n",
    "import numpy as np\n",
    "import matplotlib.pyplot as plt\n",
    "import random\n",
    "import torchvision\n",
    "from torch.utils.data import Dataset, DataLoader\n",
    "from torch import nn\n",
    "import torchvision.datasets as datasets\n",
    "import torchvision.transforms as transforms\n",
    "from torch import optim\n",
    "from torch.nn import functional as F"
   ]
  },
  {
   "cell_type": "code",
   "execution_count": 27,
   "metadata": {},
   "outputs": [
    {
     "name": "stdout",
     "output_type": "stream",
     "text": [
      "cpu\n"
     ]
    }
   ],
   "source": [
    "device=torch.device('cuda' if torch.cuda.is_available() else 'cpu')\n",
    "print(device)"
   ]
  },
  {
   "cell_type": "code",
   "execution_count": 28,
   "metadata": {},
   "outputs": [],
   "source": [
    "#Linear Neural Network\n",
    "class LinearNet(nn.Module):\n",
    "    def __init__(self,num_classes=10):\n",
    "        super(LinearNet, self).__init__()\n",
    "        self.Layer1=nn.Linear(784,128)\n",
    "        self.Layer2=nn.Linear(128,64)\n",
    "        self.Layer3=nn.Linear(64,10)\n",
    "    \n",
    "    def forward(self,x):\n",
    "        x=x.view(-1,784)\n",
    "        x=F.relu(self.Layer1(x))\n",
    "        x=F.relu(self.Layer2(x))\n",
    "        x=self.Layer3(x)\n",
    "        return x"
   ]
  },
  {
   "cell_type": "code",
   "execution_count": 29,
   "metadata": {},
   "outputs": [],
   "source": [
    "#Hyperparameters\n",
    "learning_rate=0.001\n",
    "batch_size=64\n",
    "num_epochs=100"
   ]
  },
  {
   "cell_type": "code",
   "execution_count": 30,
   "metadata": {},
   "outputs": [],
   "source": [
    "#Dataset\n",
    "train_dataset=datasets.MNIST(root='./data',train=True,transform=transforms.ToTensor(),download=True)\n",
    "test_dataset=datasets.MNIST(root='./data',train=False,transform=transforms.ToTensor(),download=True)\n",
    "\n",
    "train_loader=DataLoader(dataset=train_dataset, batch_size=batch_size, shuffle=True)\n",
    "test_loader=DataLoader(dataset=test_dataset, batch_size=batch_size, shuffle=False)"
   ]
  },
  {
   "cell_type": "code",
   "execution_count": 31,
   "metadata": {},
   "outputs": [],
   "source": [
    "model=LinearNet().to(device)\n",
    "\n",
    "criterion=nn.CrossEntropyLoss()\n",
    "optimizer=optim.Adam(model.parameters(),lr=learning_rate)\n",
    "\n",
    "total_step=len(train_loader)"
   ]
  },
  {
   "cell_type": "code",
   "execution_count": 32,
   "metadata": {},
   "outputs": [],
   "source": [
    "costs=[]\n",
    "accuracy=[]"
   ]
  },
  {
   "cell_type": "code",
   "execution_count": 33,
   "metadata": {},
   "outputs": [
    {
     "name": "stdout",
     "output_type": "stream",
     "text": [
      "Epoch: 1/100, Loss: 0.1486\n",
      "Epoch: 2/100, Loss: 0.0641\n",
      "Epoch: 3/100, Loss: 0.1254\n",
      "Epoch: 4/100, Loss: 0.0147\n",
      "Epoch: 5/100, Loss: 0.0062\n",
      "Epoch: 6/100, Loss: 0.0177\n",
      "Epoch: 7/100, Loss: 0.0025\n",
      "Epoch: 8/100, Loss: 0.1078\n",
      "Epoch: 9/100, Loss: 0.0176\n",
      "Epoch: 10/100, Loss: 0.0218\n",
      "Epoch: 11/100, Loss: 0.0571\n",
      "Epoch: 12/100, Loss: 0.0278\n",
      "Epoch: 13/100, Loss: 0.0011\n",
      "Epoch: 14/100, Loss: 0.1407\n",
      "Epoch: 15/100, Loss: 0.0081\n",
      "Epoch: 16/100, Loss: 0.0210\n",
      "Epoch: 17/100, Loss: 0.0058\n",
      "Epoch: 18/100, Loss: 0.0000\n",
      "Epoch: 19/100, Loss: 0.0007\n",
      "Epoch: 20/100, Loss: 0.0309\n",
      "Epoch: 21/100, Loss: 0.0005\n",
      "Epoch: 22/100, Loss: 0.0014\n",
      "Epoch: 23/100, Loss: 0.0060\n",
      "Epoch: 24/100, Loss: 0.0003\n",
      "Epoch: 25/100, Loss: 0.0017\n",
      "Epoch: 26/100, Loss: 0.0001\n",
      "Epoch: 27/100, Loss: 0.0000\n",
      "Epoch: 28/100, Loss: 0.0183\n",
      "Epoch: 29/100, Loss: 0.0087\n",
      "Epoch: 30/100, Loss: 0.0001\n",
      "Epoch: 31/100, Loss: 0.0000\n",
      "Epoch: 32/100, Loss: 0.0002\n",
      "Epoch: 33/100, Loss: 0.0010\n",
      "Epoch: 34/100, Loss: 0.0000\n",
      "Epoch: 35/100, Loss: 0.0389\n",
      "Epoch: 36/100, Loss: 0.0000\n",
      "Epoch: 37/100, Loss: 0.0060\n",
      "Epoch: 38/100, Loss: 0.0065\n",
      "Epoch: 39/100, Loss: 0.0000\n",
      "Epoch: 40/100, Loss: 0.0000\n",
      "Epoch: 41/100, Loss: 0.0000\n",
      "Epoch: 42/100, Loss: 0.0034\n",
      "Epoch: 43/100, Loss: 0.0178\n",
      "Epoch: 44/100, Loss: 0.0525\n",
      "Epoch: 45/100, Loss: 0.0002\n",
      "Epoch: 46/100, Loss: 0.0051\n",
      "Epoch: 47/100, Loss: 0.0000\n",
      "Epoch: 48/100, Loss: 0.0000\n",
      "Epoch: 49/100, Loss: 0.2482\n",
      "Epoch: 50/100, Loss: 0.0000\n",
      "Epoch: 51/100, Loss: 0.0000\n",
      "Epoch: 52/100, Loss: 0.0000\n",
      "Epoch: 53/100, Loss: 0.0003\n",
      "Epoch: 54/100, Loss: 0.0000\n",
      "Epoch: 55/100, Loss: 0.0000\n",
      "Epoch: 56/100, Loss: 0.0000\n",
      "Epoch: 57/100, Loss: 0.0000\n",
      "Epoch: 58/100, Loss: 0.0000\n",
      "Epoch: 59/100, Loss: 0.0003\n",
      "Epoch: 60/100, Loss: 0.0000\n",
      "Epoch: 61/100, Loss: 0.0000\n",
      "Epoch: 62/100, Loss: 0.0000\n",
      "Epoch: 63/100, Loss: 0.0033\n",
      "Epoch: 64/100, Loss: 0.0000\n",
      "Epoch: 65/100, Loss: 0.0000\n",
      "Epoch: 66/100, Loss: 0.0000\n",
      "Epoch: 67/100, Loss: 0.0000\n",
      "Epoch: 68/100, Loss: 0.0000\n",
      "Epoch: 69/100, Loss: 0.0000\n",
      "Epoch: 70/100, Loss: 0.1610\n",
      "Epoch: 71/100, Loss: 0.0000\n",
      "Epoch: 72/100, Loss: 0.0000\n",
      "Epoch: 73/100, Loss: 0.0000\n",
      "Epoch: 74/100, Loss: 0.0144\n",
      "Epoch: 75/100, Loss: 0.0000\n",
      "Epoch: 76/100, Loss: 0.0000\n",
      "Epoch: 77/100, Loss: 0.0000\n",
      "Epoch: 78/100, Loss: 0.0000\n",
      "Epoch: 79/100, Loss: 0.0006\n",
      "Epoch: 80/100, Loss: 0.0000\n",
      "Epoch: 81/100, Loss: 0.0000\n",
      "Epoch: 82/100, Loss: 0.0000\n",
      "Epoch: 83/100, Loss: 0.0001\n",
      "Epoch: 84/100, Loss: 0.0002\n",
      "Epoch: 85/100, Loss: 0.0000\n",
      "Epoch: 86/100, Loss: 0.0150\n",
      "Epoch: 87/100, Loss: 0.0000\n",
      "Epoch: 88/100, Loss: 0.0000\n",
      "Epoch: 89/100, Loss: 0.0000\n",
      "Epoch: 90/100, Loss: 0.0000\n",
      "Epoch: 91/100, Loss: 0.1123\n",
      "Epoch: 92/100, Loss: 0.0002\n",
      "Epoch: 93/100, Loss: 0.0000\n",
      "Epoch: 94/100, Loss: 0.0000\n",
      "Epoch: 95/100, Loss: 0.0010\n",
      "Epoch: 96/100, Loss: 0.0001\n",
      "Epoch: 97/100, Loss: 0.0004\n",
      "Epoch: 98/100, Loss: 0.0000\n",
      "Epoch: 99/100, Loss: 0.0009\n",
      "Epoch: 100/100, Loss: 0.0001\n"
     ]
    }
   ],
   "source": [
    "for epoch in range(num_epochs):\n",
    "    for i,(data,targets) in enumerate(train_loader,0):\n",
    "\n",
    "        data,targets=data.to(device),targets.to(device)\n",
    "        \n",
    "        #Forward propagation\n",
    "        outputs=model(data)\n",
    "        loss=criterion(outputs,targets)\n",
    "        costs.append(loss.item())\n",
    "\n",
    "        #Backward propagation\n",
    "        optimizer.zero_grad()\n",
    "        loss.backward()\n",
    "        optimizer.step()\n",
    "\n",
    "        #Training accuracy\n",
    "        _,predicted=torch.max(outputs.data,1)\n",
    "        true=(predicted==targets).sum().item()\n",
    "        accuracy.append(true/targets.size(0))\n",
    "\n",
    "    print('Epoch: {}/{}, Loss: {:.4f}'\n",
    "    .format(epoch+1,num_epochs,loss.item()))"
   ]
  },
  {
   "cell_type": "code",
   "execution_count": 34,
   "metadata": {},
   "outputs": [
    {
     "data": {
      "image/png": "[encoded data removed]",
      "text/plain": [
       "<Figure size 432x288 with 1 Axes>"
      ]
     },
     "metadata": {
      "needs_background": "light"
     },
     "output_type": "display_data"
    }
   ],
   "source": [
    "fig = plt.figure()\n",
    "fig.suptitle('Learning Curves', fontsize=20)\n",
    "plt.xlabel('Number of Iterations', fontsize=14)\n",
    "plt.plot(costs, label = 'Training Cost')\n",
    "plt.plot(accuracy, label = 'Training Accuracy')\n",
    "plt.legend()\n",
    "plt.show()"
   ]
  },
  {
   "cell_type": "code",
   "execution_count": 35,
   "metadata": {},
   "outputs": [],
   "source": [
    "def check_accuracy(loader,model):\n",
    "\n",
    "    num_correct=0\n",
    "    num_samples=0\n",
    "    model.eval()\n",
    "\n",
    "    with torch.no_grad():\n",
    "        for x,y in loader:\n",
    "            x,y=x.to(device),y.to(device)\n",
    "            scores=model(x)\n",
    "\n",
    "            _,predictions=scores.max(1)\n",
    "            num_correct+=(predictions==y).sum()\n",
    "            num_samples+=predictions.size(0)\n",
    "\n",
    "    model.train()\n",
    "    return num_correct.double()/num_samples*100"
   ]
  },
  {
   "cell_type": "code",
   "execution_count": 36,
   "metadata": {},
   "outputs": [
    {
     "name": "stdout",
     "output_type": "stream",
     "text": [
      "Training Accuracy: 99.93666666666667\n",
      "Testing Accuracy: 97.98\n"
     ]
    }
   ],
   "source": [
    "training_accuracy = check_accuracy(train_loader, model)\n",
    "testing_accuracy = check_accuracy(test_loader, model)\n",
    "print(f\"Training Accuracy: {training_accuracy}\")\n",
    "print(f\"Testing Accuracy: {testing_accuracy}\")"
   ]
  },
  {
   "cell_type": "code",
   "execution_count": 37,
   "metadata": {},
   "outputs": [
    {
     "data": {
      "image/png": "[encoded data removed]",
      "text/plain": [
       "<Figure size 432x288 with 1 Axes>"
      ]
     },
     "metadata": {
      "needs_background": "light"
     },
     "output_type": "display_data"
    }
   ],
   "source": [
    "index=random.randint(0,len(test_dataset))\n",
    "\n",
    "with torch.no_grad():\n",
    "    data=test_dataset[index][0].view(1,784)\n",
    "    data=data.to(device)\n",
    "    output=model(data)\n",
    "    _,predicted=torch.max(output.data,1)\n",
    "\n",
    "    plt.imshow(test_dataset[index][0].view(28,28))\n",
    "    plt.title('The number is: {}'.format(predicted.item()))\n",
    "    plt.axis('off')\n",
    "    plt.show()"
   ]
  }
 ],
 "metadata": {
  "interpreter": {
   "hash": "916dbcbb3f70747c44a77c7bcd40155683ae19c65e1c03b4aa3499c5328201f1"
  },
  "kernelspec": {
   "display_name": "Python 3.9.7 64-bit",
   "language": "python",
   "name": "python3"
  },
  "language_info": {
   "codemirror_mode": {
    "name": "ipython",
    "version": 3
   },
   "file_extension": ".py",
   "mimetype": "text/x-python",
   "name": "python",
   "nbconvert_exporter": "python",
   "pygments_lexer": "ipython3",
   "version": "3.9.7"
  },
  "orig_nbformat": 4
 },
 "nbformat": 4,
 "nbformat_minor": 2
}
