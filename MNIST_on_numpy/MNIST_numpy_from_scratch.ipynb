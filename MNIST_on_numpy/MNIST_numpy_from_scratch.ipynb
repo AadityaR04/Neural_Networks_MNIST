{
  "cells": [
    {
      "cell_type": "code",
      "execution_count": 181,
      "metadata": {
        "id": "JnygZmWd9hHI"
      },
      "outputs": [],
      "source": [
        "from mlxtend.data import loadlocal_mnist\n",
        "import matplotlib.pyplot as plt\n",
        "import numpy as np\n",
        "import math\n",
        "import random"
      ]
    },
    {
      "cell_type": "code",
      "execution_count": 182,
      "metadata": {
        "colab": {
          "base_uri": "https://localhost:8080/"
        },
        "id": "TOLaFNrF9hHd",
        "outputId": "450656bb-caa3-4593-a4c9-c59656584a54"
      },
      "outputs": [
        {
          "name": "stdout",
          "output_type": "stream",
          "text": [
            "Dimensions of X = (784, 2048)\n",
            "Dimensions of Y = (2048,)\n"
          ]
        }
      ],
      "source": [
        "X, Y = loadlocal_mnist(images_path='train-images.idx3-ubyte', \n",
        "                        labels_path='train-labels.idx1-ubyte')\n",
        "X=X/255\n",
        "\n",
        "X=X.transpose()\n",
        "X=X[:,:2048]\n",
        "Y=Y[:2048]\n",
        "print(\"Dimensions of X = \" + str(X.shape))\n",
        "print(\"Dimensions of Y = \" + str(Y.shape)) "
      ]
    },
    {
      "cell_type": "code",
      "execution_count": 183,
      "metadata": {
        "id": "t8Yczbol9hHe"
      },
      "outputs": [],
      "source": [
        "training_labels=[]\n",
        "for i in range(0,len(Y)):\n",
        "    label = [0,0,0,0,0,0,0,0,0,0]\n",
        "    label[Y[i]]=label[Y[i]]+1\n",
        "    training_labels.append(label)\n",
        "training_labels = np.array(training_labels)"
      ]
    },
    {
      "cell_type": "code",
      "execution_count": 184,
      "metadata": {
        "colab": {
          "base_uri": "https://localhost:8080/"
        },
        "id": "wgVN7_nL9hHf",
        "outputId": "73f231a2-4cca-43d9-9566-f8b3f1e67b2c"
      },
      "outputs": [
        {
          "name": "stdout",
          "output_type": "stream",
          "text": [
            "(10, 2048)\n"
          ]
        }
      ],
      "source": [
        "training_labels=training_labels.transpose()\n",
        "print(training_labels.shape)"
      ]
    },
    {
      "cell_type": "code",
      "execution_count": 185,
      "metadata": {
        "id": "LouFIxzY9hHf"
      },
      "outputs": [],
      "source": [
        "def initialize_parameters(n_x,n_h1,n_h2,n_y):\n",
        "    \n",
        "    W1 = np.random.randn(n_h1,n_x)*(2/np.sqrt(n_x))\n",
        "    b1 = np.zeros(shape=(n_h1,1))*(2/n_x)\n",
        "    \n",
        "    W2 = np.random.randn(n_h2,n_h1)*(2/np.sqrt(n_h1))\n",
        "    b2 = np.zeros(shape=(n_h2,1))*(2/n_h1)\n",
        "    \n",
        "    W3 = np.random.randn(n_y,n_h2)*(2/np.sqrt(n_h2))\n",
        "    b3 = np.zeros(shape=(n_y,1))*(2/n_h2)\n",
        "    \n",
        "    parameters = {\"W1\":W1,\n",
        "                  \"b1\":b1,\n",
        "                  \"W2\":W2,\n",
        "                  \"b2\":b2,\n",
        "                  \"W3\":W3,\n",
        "                  \"b3\":b3}\n",
        "    return(parameters)\n",
        "\n",
        "def softmax(z):\n",
        "    t=np.exp(z-np.max(z))\n",
        "    a=t/t.sum(axis=0, keepdims=True)\n",
        "    return(np.float128(a))\n",
        "\n",
        "def sigmoid(z):\n",
        "    s=1/(1+np.exp(-z))\n",
        "    return(np.float128(s))"
      ]
    },
    {
      "cell_type": "code",
      "execution_count": 186,
      "metadata": {
        "id": "Bb0ZuwmE9hHg"
      },
      "outputs": [],
      "source": [
        "def forward_prop(parameters, X):\n",
        "    \n",
        "    W1 = parameters['W1']\n",
        "    b1 = parameters['b1']\n",
        "    W2 = parameters['W2']\n",
        "    b2 = parameters['b2']\n",
        "    W3 = parameters['W3']\n",
        "    b3 = parameters['b3']\n",
        "    \n",
        "    Z1=np.dot(W1,X)+b1\n",
        "    A1=sigmoid(Z1)\n",
        "    Z2=np.dot(W2,A1)+b2\n",
        "    A2=sigmoid(Z2)\n",
        "    Z3=np.dot(W3,A2)+b3\n",
        "    A3=softmax(Z3)\n",
        "    \n",
        "    cache = {\"Z1\": Z1,\n",
        "             \"A1\": A1,\n",
        "             \"Z2\": Z2,\n",
        "             \"A2\": A2,\n",
        "             \"Z3\": Z3,\n",
        "             \"A3\": A3}\n",
        "    \n",
        "    return A3, cache"
      ]
    },
    {
      "cell_type": "code",
      "execution_count": 187,
      "metadata": {
        "id": "EH825Qrj9hHg"
      },
      "outputs": [],
      "source": [
        "def back_prop(cache, parameters, x, training_labels):\n",
        "    \n",
        "    m = x.shape[1]\n",
        "    \n",
        "    A3 = cache['A3']\n",
        "    A2 = cache['A2']\n",
        "    A1 = cache['A1']\n",
        "\n",
        "    Z3 = cache['Z3']\n",
        "    Z2 = cache['Z2']\n",
        "    Z1 = cache['Z1']\n",
        "\n",
        "    w1 = parameters['W1']\n",
        "    w2 = parameters['W2']\n",
        "    w3 = parameters['W3']\n",
        "   \n",
        "    lambd = 10\n",
        "    dz3 = A3 - training_labels\n",
        "    dw3 = 1/m * np.dot(dz3, A2.T)\n",
        "    db3 = 1/m * np.sum(dz3, axis=1, keepdims=True)\n",
        "    \n",
        "    da2 = np.dot(w3.T, dz3)\n",
        "    dz2 = da2*sigmoid(Z2)*(1-sigmoid(Z2))\n",
        "    dw2 = 1/m*np.dot(dz2, A1.T)\n",
        "    db2 = 1/m * np.sum(dz2, axis=1, keepdims=True)\n",
        "    \n",
        "    da1 = np.dot(w2.T, dz2)\n",
        "    dz1 = da1*sigmoid(Z1)*(1-sigmoid(Z1))\n",
        "    dw1 = 1/m*np.dot(dz1, x.T)\n",
        "    db1 = 1/m * np.sum(dz1, axis=1, keepdims=True)\n",
        "    \n",
        "    derivatives =  {\"dW1\": dw1,\n",
        "                  \"db1\": db1,\n",
        "                  \"dW2\": dw2,\n",
        "                  \"db2\": db2,\n",
        "                  \"dW3\": dw3,\n",
        "                  \"db3\": db3}\n",
        "    return derivatives"
      ]
    },
    {
      "cell_type": "code",
      "execution_count": 188,
      "metadata": {
        "id": "OuOvz8tk9hHh"
      },
      "outputs": [],
      "source": [
        "def gradient_desc(parameters, derivatives, alpha):\n",
        "    \n",
        "    W1 = parameters['W1']\n",
        "    b1 = parameters['b1']\n",
        "    W2 = parameters['W2']\n",
        "    b2 = parameters['b2']\n",
        "    W3 = parameters['W3']\n",
        "    b3 = parameters['b3']\n",
        "    \n",
        "    dw3 = derivatives['dW3']\n",
        "    db3 = derivatives['db3']\n",
        "    dw2 = derivatives['dW2']\n",
        "    db2 = derivatives['db2']\n",
        "    dw1 = derivatives['dW1']\n",
        "    db1 = derivatives['db1']\n",
        "    \n",
        "    W1 = W1 - alpha*dw1\n",
        "    b1 = b1 - alpha*db1\n",
        "    W2 = W2 - alpha*dw2\n",
        "    b2 = b2 - alpha*db2\n",
        "    W3 = W3 - alpha*dw3\n",
        "    b3 = b3 - alpha*db3\n",
        "    \n",
        "    parameters = {\"W1\": W1,\n",
        "                  \"b1\": b1,\n",
        "                  \"W2\": W2,\n",
        "                  \"b2\": b2,\n",
        "                  \"W3\": W3,\n",
        "                  \"b3\": b3}\n",
        "    return parameters"
      ]
    },
    {
      "cell_type": "code",
      "execution_count": 189,
      "metadata": {
        "id": "nyfBL2BJ9hHh"
      },
      "outputs": [],
      "source": [
        "def cost_func(A3, y,m, parameters):\n",
        "    \n",
        "    W1 = parameters['W1']\n",
        "    W2 = parameters['W2']\n",
        "    W3 = parameters['W3']\n",
        "\n",
        "    loss_sum = np.sum(np.multiply(y, np.log(A3 + 0.0000001)))\n",
        "    m = y.shape[1]\n",
        "    loss = -1/m * loss_sum\n",
        "    return loss"
      ]
    },
    {
      "cell_type": "code",
      "execution_count": 190,
      "metadata": {
        "id": "rKjn1C-d9hHh"
      },
      "outputs": [],
      "source": [
        "def create_mini_batches(x, y, batch_size, seed):\n",
        "    \n",
        "    np.random.seed(seed)\n",
        "    mini_batches = [] \n",
        "    m = x.shape[1]\n",
        "    n_minibatches = math.floor(m/batch_size)\n",
        "    i = 0\n",
        "    \n",
        "    permutation = list(np.random.permutation(m))\n",
        "    shuffled_X = x[:, permutation]\n",
        "    shuffled_Y = y[:, permutation].reshape((10,m))\n",
        "\n",
        "    for k in range(0,n_minibatches): \n",
        "        mini_batch_X = shuffled_X[:, k*batch_size : (k+1)*batch_size]\n",
        "        mini_batch_Y = shuffled_Y[:, k*batch_size : (k+1)*batch_size]\n",
        "    \n",
        "        mini_batch = (mini_batch_X, mini_batch_Y)\n",
        "        mini_batches.append(mini_batch)\n",
        "        \n",
        "    if m % batch_size != 0:\n",
        "        mini_batch_X = shuffled_X[:,n_minibatches * batch_size:]\n",
        "        mini_batch_Y = shuffled_Y[:,n_minibatches * batch_size:]\n",
        "        mini_batch = (mini_batch_X, mini_batch_Y)\n",
        "        mini_batches.append(mini_batch) \n",
        "        \n",
        "    return mini_batches"
      ]
    },
    {
      "cell_type": "code",
      "execution_count": 191,
      "metadata": {
        "id": "6CpmbIE69hHh"
      },
      "outputs": [],
      "source": [
        "def initialize_adam(parameters) :\n",
        "    \n",
        "    L = len(parameters) // 2 # number of layers in the neural networks\n",
        "    v = {}\n",
        "    s = {}\n",
        "  \n",
        "    for l in range(L):\n",
        "        v[\"dW\" + str(l+1)] = np.zeros_like(parameters[\"W\" + str(l + 1)])\n",
        "        v[\"db\" + str(l+1)] = np.zeros_like(parameters[\"b\" + str(l + 1)])\n",
        "        s[\"dW\" + str(l+1)] = np.zeros_like(parameters[\"W\" + str(l + 1)])\n",
        "        s[\"db\" + str(l+1)] = np.zeros_like(parameters[\"b\" + str(l + 1)])\n",
        "    \n",
        "    return v, s"
      ]
    },
    {
      "cell_type": "code",
      "execution_count": 192,
      "metadata": {
        "id": "309bqxrz9hHi"
      },
      "outputs": [],
      "source": [
        "def update_parameters_with_adam(parameters, grads, v, s, t, learning_rate, beta1, beta2,  epsilon):\n",
        "\n",
        "    L = len(parameters)//2                   \n",
        "    v_corrected = {}                         \n",
        "    s_corrected = {}                         \n",
        "    \n",
        "    for l in range(L):\n",
        "        \n",
        "        v[\"dW\" + str(l + 1)] = beta1 * v[\"dW\" + str(l + 1)] + (1 - beta1) * grads['dW' + str(l + 1)]\n",
        "        v[\"db\" + str(l + 1)] = beta1 * v[\"db\" + str(l + 1)] + (1 - beta1) * grads['db' + str(l + 1)]\n",
        "        \n",
        "        v_corrected[\"dW\" + str(l + 1)] = v[\"dW\" + str(l + 1)] / (1 - beta1**t)\n",
        "        v_corrected[\"db\" + str(l + 1)] = v[\"db\" + str(l + 1)] / (1 - beta1**t)\n",
        "        \n",
        "        s[\"dW\" + str(l + 1)] = beta2 * s[\"dW\" + str(l + 1)] + (1 - beta2) * grads['dW' + str(l + 1)]**2\n",
        "        s[\"db\" + str(l + 1)] = beta2 * s[\"db\" + str(l + 1)] + (1 - beta2) * grads['db' + str(l + 1)]**2\n",
        "        \n",
        "        s_corrected[\"dW\" + str(l + 1)] = s[\"dW\" + str(l + 1)] / (1 - beta2**t)\n",
        "        s_corrected[\"db\" + str(l + 1)] = s[\"db\" + str(l + 1)] / (1 - beta2**t)\n",
        "        \n",
        "        parameters[\"W\" + str(l + 1)] = parameters[\"W\" + str(l + 1)] - learning_rate * v_corrected[\"dW\" + str(l + 1)]/ (np.sqrt(s_corrected[\"dW\" + str(l + 1)]) + epsilon)\n",
        "        parameters[\"b\" + str(l + 1)] = parameters[\"b\" + str(l + 1)] - learning_rate * v_corrected[\"db\" + str(l + 1)] / (np.sqrt(s_corrected[\"db\" + str(l + 1)]) + epsilon)\n",
        "\n",
        "    return parameters, v, s"
      ]
    },
    {
      "cell_type": "code",
      "execution_count": 193,
      "metadata": {
        "id": "-oRAVbxq3zrI"
      },
      "outputs": [],
      "source": [
        "def update_parameters_with_momentum(parameters, grads, v, alpha, beta):\n",
        "\n",
        "    L=len(parameters)//2\n",
        "\n",
        "    for l in range(L):\n",
        "        \n",
        "        v[\"dW\" + str(l + 1)] = beta * v[\"dW\" + str(l + 1)] + (1 - beta) * grads['dW' + str(l + 1)]\n",
        "        v[\"db\" + str(l + 1)] = beta * v[\"db\" + str(l + 1)] + (1 - beta) * grads['db' + str(l + 1)]\n",
        "\n",
        "        parameters['W'+str(l+1)] = parameters['W'+str(l+1)] - alpha*v[\"dW\" + str(l + 1)]\n",
        "        parameters['W'+str(l+1)] = parameters['W'+str(l+1)] - alpha*v[\"dW\" + str(l + 1)]\n",
        "    \n",
        "    return parameters,v"
      ]
    },
    {
      "cell_type": "code",
      "execution_count": 194,
      "metadata": {
        "colab": {
          "base_uri": "https://localhost:8080/",
          "height": 450
        },
        "id": "Y2biBApY9hHj",
        "outputId": "2a883702-a3c3-4c16-bf13-24f572a6ac5a"
      },
      "outputs": [
        {
          "name": "stdout",
          "output_type": "stream",
          "text": [
            "Cost after iteration 0: 1.683354\n",
            "Cost after iteration 10: 0.432766\n",
            "Cost after iteration 20: 0.211084\n",
            "Cost after iteration 30: 0.062133\n",
            "Cost after iteration 40: 0.100119\n",
            "Cost after iteration 50: 0.039299\n",
            "Cost after iteration 60: 0.012998\n",
            "Cost after iteration 70: 0.017970\n",
            "Cost after iteration 80: 0.005476\n",
            "Cost after iteration 90: 0.004544\n"
          ]
        },
        {
          "data": {
            "text/plain": [
              "<function matplotlib.pyplot.show(close=None, block=None)>"
            ]
          },
          "execution_count": 194,
          "metadata": {},
          "output_type": "execute_result"
        },
        {
          "data": {
            "image/png": "[encoded data removed]",
            "text/plain": [
              "<Figure size 432x288 with 1 Axes>"
            ]
          },
          "metadata": {
            "needs_background": "light"
          },
          "output_type": "display_data"
        }
      ],
      "source": [
        "n_x = X.shape[0]\n",
        "m = X.shape[1]\n",
        "n_h1 = 128\n",
        "n_h2 = 64\n",
        "n_y = 10\n",
        "\n",
        "t=0\n",
        "seed=0\n",
        "costs=[]\n",
        "epoches = 100\n",
        "\n",
        "parameters = initialize_parameters(n_x,n_h1,n_h2,n_y)\n",
        "\n",
        "v, s = initialize_adam(parameters)\n",
        "alpha = 0.001\n",
        "for i in range(epoches):\n",
        "\n",
        "    mini_batches = create_mini_batches(X, training_labels, 64, seed)\n",
        "    seed=seed+1\n",
        "    for mini_batch in mini_batches:\n",
        "    \n",
        "        X_mini, y_mini = mini_batch \n",
        "        A3, cache = forward_prop(parameters, X_mini)\n",
        "\n",
        "        cost = cost_func(A3,y_mini,m, parameters)\n",
        "\n",
        "        derivatives = back_prop(cache, parameters, X_mini, y_mini)\n",
        "\n",
        "        t=t+1\n",
        "        parameters, v, s = update_parameters_with_adam(parameters, derivatives, v, s, t, alpha, 0.9, 0.999,  1e-8)\n",
        "\n",
        "    costs.append(cost)\n",
        "\n",
        "    if i % 10 == 0:\n",
        "      print (\"Cost after iteration %i: %f\" %(i, cost))\n",
        "\n",
        "plt.plot(list(range(epoches)), costs)\n",
        "plt.imshow\n",
        "plt.show"
      ]
    },
    {
      "cell_type": "code",
      "execution_count": 195,
      "metadata": {
        "id": "FiJa1ZgW9hHj"
      },
      "outputs": [],
      "source": [
        "def accuracy(final, initial):\n",
        "    for i,label in enumerate(final.T):\n",
        "        max_idx = np.argmax(label)\n",
        "        label=np.zeros(len(label))\n",
        "        label[max_idx]=1\n",
        "        final.T[i]=label\n",
        "        \n",
        "    ret = float(sum(sum((np.multiply(initial,final)))))/float(initial.shape[1])*100\n",
        "    return ret, final"
      ]
    },
    {
      "cell_type": "code",
      "execution_count": 196,
      "metadata": {
        "colab": {
          "base_uri": "https://localhost:8080/"
        },
        "id": "dWQS1yMF9hHj",
        "outputId": "555d00c6-6283-4855-a6c7-91984b5b5751"
      },
      "outputs": [
        {
          "name": "stdout",
          "output_type": "stream",
          "text": [
            "Accuracy = 100.0%\n"
          ]
        }
      ],
      "source": [
        "A4,cache = forward_prop(parameters, X)\n",
        "value, labels = accuracy(A4, training_labels)\n",
        "print('Accuracy = '+str(value)+'%') "
      ]
    },
    {
      "cell_type": "markdown",
      "metadata": {},
      "source": [
        "Test Set"
      ]
    },
    {
      "cell_type": "code",
      "execution_count": 197,
      "metadata": {
        "id": "1WEPo-v39hHk"
      },
      "outputs": [],
      "source": [
        "test_x, test_y = loadlocal_mnist(images_path='t10k-images.idx3-ubyte', labels_path='t10k-labels.idx1-ubyte')"
      ]
    },
    {
      "cell_type": "code",
      "execution_count": 198,
      "metadata": {
        "colab": {
          "base_uri": "https://localhost:8080/"
        },
        "id": "5RX0lY0P9hHk",
        "outputId": "84622c0c-fde2-4a26-c745-292d94197c48"
      },
      "outputs": [
        {
          "name": "stdout",
          "output_type": "stream",
          "text": [
            "Dimensions of X = (784, 10000)\n",
            "Dimensions of Y = (10000,)\n"
          ]
        }
      ],
      "source": [
        "test_x=test_x.transpose()\n",
        "print(\"Dimensions of X = \" + str(test_x.shape))\n",
        "print(\"Dimensions of Y = \" + str(test_y.shape)) "
      ]
    },
    {
      "cell_type": "code",
      "execution_count": 199,
      "metadata": {
        "id": "CW0K4DtD9hHk"
      },
      "outputs": [],
      "source": [
        "test_labels=[]\n",
        "for i in range(0,10000):\n",
        "    label = [0,0,0,0,0,0,0,0,0,0]\n",
        "    label[test_y[i]]=label[test_y[i]]+1\n",
        "    test_labels.append(label)\n",
        "test_labels = np.array(test_labels)\n"
      ]
    },
    {
      "cell_type": "code",
      "execution_count": 200,
      "metadata": {
        "colab": {
          "base_uri": "https://localhost:8080/"
        },
        "id": "pIO7ErRx9hHl",
        "outputId": "7211ec47-cf86-4d80-8647-5152066fa5c1"
      },
      "outputs": [
        {
          "name": "stdout",
          "output_type": "stream",
          "text": [
            "(10, 2048)\n"
          ]
        }
      ],
      "source": [
        "test_labels=test_labels.transpose()\n",
        "print(training_labels.shape)"
      ]
    },
    {
      "cell_type": "code",
      "execution_count": 201,
      "metadata": {
        "colab": {
          "base_uri": "https://localhost:8080/"
        },
        "id": "HDe9IcnL9hHl",
        "outputId": "804a443b-a4e7-4e33-f3c2-26fa23068349"
      },
      "outputs": [
        {
          "name": "stdout",
          "output_type": "stream",
          "text": [
            "Accuracy = 90.39%\n"
          ]
        }
      ],
      "source": [
        "A3_test, cache = forward_prop(parameters, test_x)\n",
        "value, labels = accuracy(A3_test, test_labels)\n",
        "print('Accuracy = '+str(value)+'%')"
      ]
    },
    {
      "cell_type": "code",
      "execution_count": 202,
      "metadata": {
        "id": "JjEJfyUe9hHl",
        "scrolled": false
      },
      "outputs": [
        {
          "data": {
            "image/png": "[encoded data removed]",
            "text/plain": [
              "<Figure size 432x288 with 1 Axes>"
            ]
          },
          "metadata": {
            "needs_background": "light"
          },
          "output_type": "display_data"
        }
      ],
      "source": [
        "index=random.randint(0,len(test_x))\n",
        "    \n",
        "image = test_x.T[index]\n",
        "image=image.reshape(28,28)\n",
        "digit = np.argmax(labels.T[index])\n",
        "    \n",
        "plt.title(\"The number is: \"+str(digit))\n",
        "plt.imshow(image)\n",
        "plt.axis('off')\n",
        "plt.show()"
      ]
    }
  ],
  "metadata": {
    "colab": {
      "collapsed_sections": [],
      "name": "MNIST-final.ipynb",
      "provenance": []
    },
    "kernelspec": {
      "display_name": "Python 3",
      "language": "python",
      "name": "python3"
    },
    "language_info": {
      "codemirror_mode": {
        "name": "ipython",
        "version": 3
      },
      "file_extension": ".py",
      "mimetype": "text/x-python",
      "name": "python",
      "nbconvert_exporter": "python",
      "pygments_lexer": "ipython3",
      "version": "3.9.7"
    }
  },
  "nbformat": 4,
  "nbformat_minor": 0
}
